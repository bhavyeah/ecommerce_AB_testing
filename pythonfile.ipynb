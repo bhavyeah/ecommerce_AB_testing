{
 "cells": [
  {
   "cell_type": "code",
   "execution_count": 2,
   "id": "557490c2",
   "metadata": {},
   "outputs": [],
   "source": [
    "import pandas as pd\n",
    "import numpy as np\n",
    "import matplotlib.pyplot as plt\n",
    "import seaborn as sns"
   ]
  },
  {
   "cell_type": "code",
   "execution_count": 3,
   "id": "3729006b",
   "metadata": {},
   "outputs": [],
   "source": [
    "df = pd.read_csv('ab_data.csv')\n",
    "df2 = pd.read_csv('countries.csv')"
   ]
  },
  {
   "cell_type": "code",
   "execution_count": 4,
   "id": "a5f2ef5b",
   "metadata": {},
   "outputs": [
    {
     "data": {
      "text/html": [
       "<div>\n",
       "<style scoped>\n",
       "    .dataframe tbody tr th:only-of-type {\n",
       "        vertical-align: middle;\n",
       "    }\n",
       "\n",
       "    .dataframe tbody tr th {\n",
       "        vertical-align: top;\n",
       "    }\n",
       "\n",
       "    .dataframe thead th {\n",
       "        text-align: right;\n",
       "    }\n",
       "</style>\n",
       "<table border=\"1\" class=\"dataframe\">\n",
       "  <thead>\n",
       "    <tr style=\"text-align: right;\">\n",
       "      <th></th>\n",
       "      <th>user_id</th>\n",
       "      <th>timestamp</th>\n",
       "      <th>group</th>\n",
       "      <th>landing_page</th>\n",
       "      <th>converted</th>\n",
       "    </tr>\n",
       "  </thead>\n",
       "  <tbody>\n",
       "    <tr>\n",
       "      <th>0</th>\n",
       "      <td>851104</td>\n",
       "      <td>11:48.6</td>\n",
       "      <td>control</td>\n",
       "      <td>old_page</td>\n",
       "      <td>0</td>\n",
       "    </tr>\n",
       "    <tr>\n",
       "      <th>1</th>\n",
       "      <td>804228</td>\n",
       "      <td>01:45.2</td>\n",
       "      <td>control</td>\n",
       "      <td>old_page</td>\n",
       "      <td>0</td>\n",
       "    </tr>\n",
       "    <tr>\n",
       "      <th>2</th>\n",
       "      <td>661590</td>\n",
       "      <td>55:06.2</td>\n",
       "      <td>treatment</td>\n",
       "      <td>new_page</td>\n",
       "      <td>0</td>\n",
       "    </tr>\n",
       "    <tr>\n",
       "      <th>3</th>\n",
       "      <td>853541</td>\n",
       "      <td>28:03.1</td>\n",
       "      <td>treatment</td>\n",
       "      <td>new_page</td>\n",
       "      <td>0</td>\n",
       "    </tr>\n",
       "    <tr>\n",
       "      <th>4</th>\n",
       "      <td>864975</td>\n",
       "      <td>52:26.2</td>\n",
       "      <td>control</td>\n",
       "      <td>old_page</td>\n",
       "      <td>1</td>\n",
       "    </tr>\n",
       "  </tbody>\n",
       "</table>\n",
       "</div>"
      ],
      "text/plain": [
       "   user_id timestamp      group landing_page  converted\n",
       "0   851104   11:48.6    control     old_page          0\n",
       "1   804228   01:45.2    control     old_page          0\n",
       "2   661590   55:06.2  treatment     new_page          0\n",
       "3   853541   28:03.1  treatment     new_page          0\n",
       "4   864975   52:26.2    control     old_page          1"
      ]
     },
     "execution_count": 4,
     "metadata": {},
     "output_type": "execute_result"
    }
   ],
   "source": [
    "df.head()"
   ]
  },
  {
   "cell_type": "code",
   "execution_count": 5,
   "id": "048360b7",
   "metadata": {},
   "outputs": [
    {
     "name": "stdout",
     "output_type": "stream",
     "text": [
      "<class 'pandas.core.frame.DataFrame'>\n",
      "RangeIndex: 294480 entries, 0 to 294479\n",
      "Data columns (total 5 columns):\n",
      " #   Column        Non-Null Count   Dtype \n",
      "---  ------        --------------   ----- \n",
      " 0   user_id       294480 non-null  int64 \n",
      " 1   timestamp     294480 non-null  object\n",
      " 2   group         294480 non-null  object\n",
      " 3   landing_page  294480 non-null  object\n",
      " 4   converted     294480 non-null  int64 \n",
      "dtypes: int64(2), object(3)\n",
      "memory usage: 11.2+ MB\n"
     ]
    }
   ],
   "source": [
    "df.info()"
   ]
  },
  {
   "cell_type": "code",
   "execution_count": 6,
   "id": "351bb9f2",
   "metadata": {},
   "outputs": [],
   "source": [
    "df['timestamp'] = pd.to_datetime(df['timestamp'], format='mixed', errors='coerce')"
   ]
  },
  {
   "cell_type": "code",
   "execution_count": 7,
   "id": "2310b9a6",
   "metadata": {},
   "outputs": [
    {
     "data": {
      "text/plain": [
       "user_id              0\n",
       "timestamp       177213\n",
       "group                0\n",
       "landing_page         0\n",
       "converted            0\n",
       "dtype: int64"
      ]
     },
     "execution_count": 7,
     "metadata": {},
     "output_type": "execute_result"
    }
   ],
   "source": [
    "pd.isnull(df).sum()"
   ]
  },
  {
   "cell_type": "code",
   "execution_count": 8,
   "id": "59d5ca99",
   "metadata": {},
   "outputs": [
    {
     "data": {
      "text/plain": [
       "(294480, 5)"
      ]
     },
     "execution_count": 8,
     "metadata": {},
     "output_type": "execute_result"
    }
   ],
   "source": [
    "df.shape"
   ]
  },
  {
   "cell_type": "code",
   "execution_count": 9,
   "id": "77235c3f",
   "metadata": {},
   "outputs": [],
   "source": [
    "df.drop_duplicates(inplace=True)"
   ]
  },
  {
   "cell_type": "code",
   "execution_count": 10,
   "id": "25a6b392",
   "metadata": {},
   "outputs": [
    {
     "data": {
      "text/plain": [
       "(294479, 5)"
      ]
     },
     "execution_count": 10,
     "metadata": {},
     "output_type": "execute_result"
    }
   ],
   "source": [
    "df.shape"
   ]
  },
  {
   "cell_type": "code",
   "execution_count": 11,
   "id": "8c9afb19",
   "metadata": {},
   "outputs": [],
   "source": [
    "df.dropna(inplace=True)"
   ]
  },
  {
   "cell_type": "code",
   "execution_count": 23,
   "id": "0dd3818d",
   "metadata": {},
   "outputs": [
    {
     "name": "stdout",
     "output_type": "stream",
     "text": [
      "<class 'pandas.core.frame.DataFrame'>\n",
      "Index: 117267 entries, 0 to 294478\n",
      "Data columns (total 5 columns):\n",
      " #   Column        Non-Null Count   Dtype         \n",
      "---  ------        --------------   -----         \n",
      " 0   user_id       117267 non-null  int64         \n",
      " 1   timestamp     117267 non-null  datetime64[ns]\n",
      " 2   group         117267 non-null  object        \n",
      " 3   landing_page  117267 non-null  object        \n",
      " 4   converted     117267 non-null  int64         \n",
      "dtypes: datetime64[ns](1), int64(2), object(2)\n",
      "memory usage: 5.4+ MB\n"
     ]
    }
   ],
   "source": [
    "df.info()"
   ]
  },
  {
   "cell_type": "code",
   "execution_count": 12,
   "id": "22b46d63",
   "metadata": {},
   "outputs": [
    {
     "data": {
      "text/html": [
       "<div>\n",
       "<style scoped>\n",
       "    .dataframe tbody tr th:only-of-type {\n",
       "        vertical-align: middle;\n",
       "    }\n",
       "\n",
       "    .dataframe tbody tr th {\n",
       "        vertical-align: top;\n",
       "    }\n",
       "\n",
       "    .dataframe thead th {\n",
       "        text-align: right;\n",
       "    }\n",
       "</style>\n",
       "<table border=\"1\" class=\"dataframe\">\n",
       "  <thead>\n",
       "    <tr style=\"text-align: right;\">\n",
       "      <th></th>\n",
       "      <th>user_id</th>\n",
       "      <th>country</th>\n",
       "    </tr>\n",
       "  </thead>\n",
       "  <tbody>\n",
       "    <tr>\n",
       "      <th>0</th>\n",
       "      <td>834778</td>\n",
       "      <td>UK</td>\n",
       "    </tr>\n",
       "    <tr>\n",
       "      <th>1</th>\n",
       "      <td>928468</td>\n",
       "      <td>US</td>\n",
       "    </tr>\n",
       "    <tr>\n",
       "      <th>2</th>\n",
       "      <td>822059</td>\n",
       "      <td>UK</td>\n",
       "    </tr>\n",
       "    <tr>\n",
       "      <th>3</th>\n",
       "      <td>711597</td>\n",
       "      <td>UK</td>\n",
       "    </tr>\n",
       "    <tr>\n",
       "      <th>4</th>\n",
       "      <td>710616</td>\n",
       "      <td>UK</td>\n",
       "    </tr>\n",
       "  </tbody>\n",
       "</table>\n",
       "</div>"
      ],
      "text/plain": [
       "   user_id country\n",
       "0   834778      UK\n",
       "1   928468      US\n",
       "2   822059      UK\n",
       "3   711597      UK\n",
       "4   710616      UK"
      ]
     },
     "execution_count": 12,
     "metadata": {},
     "output_type": "execute_result"
    }
   ],
   "source": [
    "df2.head()"
   ]
  },
  {
   "cell_type": "code",
   "execution_count": 13,
   "id": "27cebae4",
   "metadata": {},
   "outputs": [
    {
     "data": {
      "text/plain": [
       "user_id    0\n",
       "country    0\n",
       "dtype: int64"
      ]
     },
     "execution_count": 13,
     "metadata": {},
     "output_type": "execute_result"
    }
   ],
   "source": [
    "pd.isnull(df2).sum()"
   ]
  },
  {
   "cell_type": "code",
   "execution_count": 14,
   "id": "96e8ebdb",
   "metadata": {},
   "outputs": [
    {
     "data": {
      "text/plain": [
       "(290586, 2)"
      ]
     },
     "execution_count": 14,
     "metadata": {},
     "output_type": "execute_result"
    }
   ],
   "source": [
    "df2.shape"
   ]
  },
  {
   "cell_type": "code",
   "execution_count": 15,
   "id": "fb12949a",
   "metadata": {},
   "outputs": [],
   "source": [
    "df.drop_duplicates(inplace=True)"
   ]
  },
  {
   "cell_type": "code",
   "execution_count": 16,
   "id": "1a608d31",
   "metadata": {},
   "outputs": [
    {
     "name": "stdout",
     "output_type": "stream",
     "text": [
      "<class 'pandas.core.frame.DataFrame'>\n",
      "RangeIndex: 290586 entries, 0 to 290585\n",
      "Data columns (total 2 columns):\n",
      " #   Column   Non-Null Count   Dtype \n",
      "---  ------   --------------   ----- \n",
      " 0   user_id  290586 non-null  int64 \n",
      " 1   country  290586 non-null  object\n",
      "dtypes: int64(1), object(1)\n",
      "memory usage: 4.4+ MB\n"
     ]
    }
   ],
   "source": [
    "df2.info()"
   ]
  },
  {
   "cell_type": "code",
   "execution_count": 17,
   "id": "44aa2083",
   "metadata": {},
   "outputs": [
    {
     "data": {
      "text/plain": [
       "country\n",
       "US    203621\n",
       "UK     72466\n",
       "CA     14499\n",
       "Name: count, dtype: int64"
      ]
     },
     "execution_count": 17,
     "metadata": {},
     "output_type": "execute_result"
    }
   ],
   "source": [
    "df2['country'].value_counts()"
   ]
  },
  {
   "cell_type": "markdown",
   "id": "32787505",
   "metadata": {},
   "source": [
    "# Now, performing A/B test analysis using statistical tests and running a hypothesis test (Chi-square test since its categorical data) to check significance"
   ]
  },
  {
   "cell_type": "code",
   "execution_count": 20,
   "id": "da631b5f",
   "metadata": {},
   "outputs": [
    {
     "name": "stdout",
     "output_type": "stream",
     "text": [
      "these are the conversion rates: \n",
      "group\n",
      "control      0.121512\n",
      "treatment    0.117968\n",
      "Name: converted, dtype: float64\n",
      "Chi-square test p-value: 0.06291779299958786\n",
      "No significant difference.\n"
     ]
    }
   ],
   "source": [
    "# Calculate conversion rates\n",
    "conversion_rates = df.groupby(\"group\")[\"converted\"].mean()\n",
    "print(\"these are the conversion rates: \")\n",
    "print(conversion_rates)\n",
    "\n",
    "# Perform statistical test (Chi-square)\n",
    "from scipy.stats import chi2_contingency\n",
    "\n",
    "contingency_table = pd.crosstab(df[\"group\"], df[\"converted\"])\n",
    "chi2, p, _, _ = chi2_contingency(contingency_table)\n",
    "\n",
    "print(f\"Chi-square test p-value: {p}\")\n",
    "if p < 0.05:\n",
    "    print(\"Statistically significant difference!\")\n",
    "else:\n",
    "    print(\"No significant difference.\")"
   ]
  },
  {
   "cell_type": "markdown",
   "id": "e91c3fbc",
   "metadata": {},
   "source": [
    "visualizing the above"
   ]
  },
  {
   "cell_type": "code",
   "execution_count": 22,
   "id": "81a31308",
   "metadata": {},
   "outputs": [
    {
     "data": {
      "image/png": "[encoded data removed]",
      "text/plain": [
       "<Figure size 640x480 with 1 Axes>"
      ]
     },
     "metadata": {},
     "output_type": "display_data"
    }
   ],
   "source": [
    "# Conversion rates bar plot\n",
    "sns.barplot(x=conversion_rates.index, y=conversion_rates.values)\n",
    "plt.title(\"Conversion Rates for A/B Test between control and treatment groups\")\n",
    "plt.show()"
   ]
  },
  {
   "cell_type": "markdown",
   "id": "d5764b97",
   "metadata": {},
   "source": [
    "# Funnel Analysis: drop off rate between landing page visits and conversions"
   ]
  },
  {
   "cell_type": "code",
   "execution_count": 25,
   "id": "cf6c1d06",
   "metadata": {},
   "outputs": [
    {
     "name": "stdout",
     "output_type": "stream",
     "text": [
      "Total Users: 116634\n",
      "Converted Users: 14031\n",
      "Drop-off Rate: 87.97%\n"
     ]
    }
   ],
   "source": [
    "#counting total users who landed on the page\n",
    "total_users = df['user_id'].nunique()\n",
    "\n",
    "# Count users who converted\n",
    "converted_users = df[df['converted'] == 1]['user_id'].nunique()\n",
    "\n",
    "# Calculate drop-off rate\n",
    "drop_off_rate = (total_users - converted_users) / total_users\n",
    "\n",
    "print(f\"Total Users: {total_users}\")\n",
    "print(f\"Converted Users: {converted_users}\")\n",
    "print(f\"Drop-off Rate: {drop_off_rate:.2%}\")  # Display percentage format"
   ]
  },
  {
   "cell_type": "markdown",
   "id": "0789ca89",
   "metadata": {},
   "source": [
    "comparing drop off rates for Control vs Treatment groups"
   ]
  },
  {
   "cell_type": "code",
   "execution_count": 26,
   "id": "76d1f5bf",
   "metadata": {},
   "outputs": [
    {
     "name": "stdout",
     "output_type": "stream",
     "text": [
      "           converted_users  drop_off_rate\n",
      "group                                    \n",
      "control               7106       0.878165\n",
      "treatment             6935       0.881704\n"
     ]
    }
   ],
   "source": [
    "# Group-wise drop-off rate calculation\n",
    "grouped = df.groupby('group').agg(\n",
    "    total_users=('user_id', 'nunique'),\n",
    "    converted_users=('converted', 'sum')\n",
    ")\n",
    "\n",
    "grouped['drop_off_rate'] = (grouped['total_users'] - grouped['converted_users']) / grouped['total_users']\n",
    "\n",
    "print(grouped[['converted_users', 'drop_off_rate']])"
   ]
  },
  {
   "cell_type": "markdown",
   "id": "8dbd42f5",
   "metadata": {},
   "source": [
    "# Since the drop off rate is similar, the change did not improve the funnel efficiency."
   ]
  },
  {
   "cell_type": "markdown",
   "id": "8f69d408",
   "metadata": {},
   "source": [
    "Now, doing a time based trend analysis"
   ]
  },
  {
   "cell_type": "code",
   "execution_count": 29,
   "id": "9512c18c",
   "metadata": {},
   "outputs": [
    {
     "name": "stdout",
     "output_type": "stream",
     "text": [
      "            total_users  converted_users  conversion_rate\n",
      "date                                                     \n",
      "2025-03-03       116634            14041         0.120385\n"
     ]
    }
   ],
   "source": [
    "# Group by date and calculate conversion rate\n",
    "daily_trend = df.groupby('date').agg(\n",
    "    total_users=('user_id', 'nunique'),\n",
    "    converted_users=('converted', 'sum')\n",
    ")\n",
    "\n",
    "# Calculate conversion rate per day\n",
    "daily_trend['conversion_rate'] = daily_trend['converted_users'] / daily_trend['total_users']\n",
    "\n",
    "print(daily_trend.head())  # Check the first few rows"
   ]
  },
  {
   "cell_type": "markdown",
   "id": "823787c3",
   "metadata": {},
   "source": [
    "plotting the conversion rate trend"
   ]
  },
  {
   "cell_type": "code",
   "execution_count": 30,
   "id": "c735f49a",
   "metadata": {},
   "outputs": [
    {
     "data": {
      "image/png": "[encoded data removed]",
      "text/plain": [
       "<Figure size 1200x600 with 1 Axes>"
      ]
     },
     "metadata": {},
     "output_type": "display_data"
    }
   ],
   "source": [
    "import matplotlib.pyplot as plt\n",
    "\n",
    "plt.figure(figsize=(12, 6))\n",
    "plt.plot(daily_trend.index, daily_trend['conversion_rate'], marker='o', linestyle='-', color='b')\n",
    "\n",
    "plt.title('Conversion Rate Trend Over Time')\n",
    "plt.xlabel('Date')\n",
    "plt.ylabel('Conversion Rate')\n",
    "plt.xticks(rotation=45)\n",
    "plt.grid(True)\n",
    "plt.show()"
   ]
  },
  {
   "cell_type": "markdown",
   "id": "e9b46be4",
   "metadata": {},
   "source": [
    "comparing control vs treatment trends"
   ]
  },
  {
   "cell_type": "code",
   "execution_count": 31,
   "id": "254484c0",
   "metadata": {},
   "outputs": [
    {
     "data": {
      "image/png": "[encoded data removed]",
      "text/plain": [
       "<Figure size 1200x600 with 1 Axes>"
      ]
     },
     "metadata": {},
     "output_type": "display_data"
    }
   ],
   "source": [
    "# Group data by date & group type (control/treatment)\n",
    "group_trend = df.groupby(['date', 'group']).agg(\n",
    "    converted_users=('converted', 'sum'),\n",
    "    total_users=('user_id', 'nunique')\n",
    ").reset_index()\n",
    "\n",
    "# Calculate conversion rate for each group\n",
    "group_trend['conversion_rate'] = group_trend['converted_users'] / group_trend['total_users']\n",
    "\n",
    "# Plot conversion rate trends for both groups\n",
    "plt.figure(figsize=(12, 6))\n",
    "sns.lineplot(data=group_trend, x='date', y='conversion_rate', hue='group', marker='o')\n",
    "\n",
    "plt.title('Conversion Rate Trend: Control vs Treatment')\n",
    "plt.xlabel('Date')\n",
    "plt.ylabel('Conversion Rate')\n",
    "plt.xticks(rotation=45)\n",
    "plt.grid(True)\n",
    "plt.legend(title=\"Group\")\n",
    "plt.show()"
   ]
  },
  {
   "cell_type": "markdown",
   "id": "5ce1b98b",
   "metadata": {},
   "source": [
    "# User Segmentation (Data Analysis & Business Analysis)"
   ]
  },
  {
   "cell_type": "markdown",
   "id": "897564c7",
   "metadata": {},
   "source": [
    "analyzing conversion rates for each landing page"
   ]
  },
  {
   "cell_type": "code",
   "execution_count": 32,
   "id": "1f65af01",
   "metadata": {},
   "outputs": [
    {
     "name": "stdout",
     "output_type": "stream",
     "text": [
      "              total_users  converted_users  conversion_rate\n",
      "landing_page                                               \n",
      "new_page            58642             6916         0.117936\n",
      "old_page            58309             7125         0.122194\n"
     ]
    }
   ],
   "source": [
    "# Group by landing page and calculate conversion rate\n",
    "landing_page_segmentation = df.groupby('landing_page').agg(\n",
    "    total_users=('user_id', 'nunique'),\n",
    "    converted_users=('converted', 'sum')\n",
    ")\n",
    "\n",
    "# Calculate conversion rate for each page\n",
    "landing_page_segmentation['conversion_rate'] = landing_page_segmentation['converted_users'] / landing_page_segmentation['total_users']\n",
    "\n",
    "print(landing_page_segmentation)"
   ]
  },
  {
   "cell_type": "markdown",
   "id": "6d1ee500",
   "metadata": {},
   "source": [
    "segregating users by their conversion behaviour"
   ]
  },
  {
   "cell_type": "code",
   "execution_count": 35,
   "id": "60ad5958",
   "metadata": {},
   "outputs": [
    {
     "name": "stdout",
     "output_type": "stream",
     "text": [
      "            Count  Percentage\n",
      "converted                    \n",
      "0          102752   87.985409\n",
      "1           14031   12.014591\n"
     ]
    }
   ],
   "source": [
    "conversion_segmentation = df.groupby('converted')['user_id'].nunique()\n",
    "\n",
    "# Calculate percentage\n",
    "conversion_percentage = (conversion_segmentation / conversion_segmentation.sum()) * 100\n",
    "\n",
    "# Combine both into a DataFrame\n",
    "conversion_summary = pd.DataFrame({\n",
    "    'Count': conversion_segmentation,\n",
    "    'Percentage': conversion_percentage\n",
    "})\n",
    "\n",
    "# Print the result\n",
    "print(conversion_summary)"
   ]
  },
  {
   "cell_type": "markdown",
   "id": "e3e303cc",
   "metadata": {},
   "source": [
    "analyzing users' conversion probability based on no of site visits"
   ]
  },
  {
   "cell_type": "code",
   "execution_count": 36,
   "id": "41e38fdb",
   "metadata": {},
   "outputs": [
    {
     "name": "stdout",
     "output_type": "stream",
     "text": [
      "                total_users  converted_users  conversion_rate\n",
      "visit_category                                               \n",
      "Occasional           116634            14041         0.120385\n"
     ]
    }
   ],
   "source": [
    "# Count visits per user\n",
    "user_visits = df.groupby('user_id').size()\n",
    "\n",
    "# Categorize users based on visit frequency\n",
    "df['visit_category'] = df['user_id'].map(lambda x: 'Frequent' if user_visits[x] > 3 else 'Occasional')\n",
    "\n",
    "# Check conversion rates by visit frequency\n",
    "visit_segmentation = df.groupby('visit_category').agg(\n",
    "    total_users=('user_id', 'nunique'),\n",
    "    converted_users=('converted', 'sum')\n",
    ")\n",
    "\n",
    "visit_segmentation['conversion_rate'] = visit_segmentation['converted_users'] / visit_segmentation['total_users']\n",
    "\n",
    "print(visit_segmentation)"
   ]
  },
  {
   "cell_type": "markdown",
   "id": "13d25aad",
   "metadata": {},
   "source": [
    "comparing control vs treatment group segments"
   ]
  },
  {
   "cell_type": "code",
   "execution_count": 38,
   "id": "0e5a5143",
   "metadata": {},
   "outputs": [
    {
     "name": "stdout",
     "output_type": "stream",
     "text": [
      "          total_users      \n",
      "converted           0     1\n",
      "group                      \n",
      "control         51256  7106\n",
      "treatment       51738  6929\n"
     ]
    }
   ],
   "source": [
    "group_segmentation = df.groupby(['group', 'converted']).agg(\n",
    "    total_users=('user_id', 'nunique')\n",
    ").unstack()\n",
    "\n",
    "print(group_segmentation)"
   ]
  },
  {
   "cell_type": "markdown",
   "id": "880dcd0c",
   "metadata": {},
   "source": [
    "control group has a higher retention rate"
   ]
  },
  {
   "cell_type": "markdown",
   "id": "2c1554c4",
   "metadata": {},
   "source": [
    "visualizing user segments"
   ]
  },
  {
   "cell_type": "code",
   "execution_count": 40,
   "id": "29ff2cbd",
   "metadata": {},
   "outputs": [
    {
     "data": {
      "image/png": "[encoded data removed]",
      "text/plain": [
       "<Figure size 1000x500 with 1 Axes>"
      ]
     },
     "metadata": {},
     "output_type": "display_data"
    }
   ],
   "source": [
    "plt.figure(figsize=(10, 5))\n",
    "sns.barplot(x=landing_page_segmentation.index, y=landing_page_segmentation['conversion_rate'])\n",
    "plt.title(\"Conversion Rate by Landing Page\")\n",
    "plt.xlabel(\"Landing Page\")\n",
    "plt.ylabel(\"Conversion Rate\")\n",
    "plt.show()"
   ]
  },
  {
   "cell_type": "markdown",
   "id": "b754a145",
   "metadata": {},
   "source": [
    "# calculating conversion rate by country"
   ]
  },
  {
   "cell_type": "code",
   "execution_count": 42,
   "id": "d1ecfebd",
   "metadata": {},
   "outputs": [
    {
     "name": "stdout",
     "output_type": "stream",
     "text": [
      "   user_id           timestamp      group landing_page  converted        date  \\\n",
      "0   851104 2025-03-03 11:48:36    control     old_page          0  2025-03-03   \n",
      "1   804228 2025-03-03 01:45:12    control     old_page          0  2025-03-03   \n",
      "2   936923 2025-03-03 20:49:06    control     old_page          0  2025-03-03   \n",
      "3   839785 2025-03-03 11:06:36  treatment     new_page          1  2025-03-03   \n",
      "4   803683 2025-03-03 05:16:12  treatment     new_page          0  2025-03-03   \n",
      "\n",
      "  visit_category country  \n",
      "0     Occasional      US  \n",
      "1     Occasional      US  \n",
      "2     Occasional      US  \n",
      "3     Occasional      CA  \n",
      "4     Occasional      US  \n"
     ]
    }
   ],
   "source": [
    "# Merge datasets on user_id\n",
    "df_merged = df.merge(df2, on='user_id', how='left')\n",
    "\n",
    "# Check the first few rows\n",
    "print(df_merged.head())"
   ]
  },
  {
   "cell_type": "markdown",
   "id": "7c5913e8",
   "metadata": {},
   "source": [
    "analyzing conversion rate by country"
   ]
  },
  {
   "cell_type": "code",
   "execution_count": 43,
   "id": "d3d47dda",
   "metadata": {},
   "outputs": [
    {
     "name": "stdout",
     "output_type": "stream",
     "text": [
      "         total_users  converted_users  conversion_rate\n",
      "country                                               \n",
      "US             81662             9902         0.121256\n",
      "UK             29190             3486         0.119424\n",
      "CA              5782              653         0.112937\n"
     ]
    }
   ],
   "source": [
    "# Group by country and calculate conversion rates\n",
    "country_conversion = df_merged.groupby('country').agg(\n",
    "    total_users=('user_id', 'nunique'),\n",
    "    converted_users=('converted', 'sum')\n",
    ")\n",
    "\n",
    "# Compute conversion rate per country\n",
    "country_conversion['conversion_rate'] = country_conversion['converted_users'] / country_conversion['total_users']\n",
    "\n",
    "# Sort in descending order\n",
    "country_conversion = country_conversion.sort_values(by='conversion_rate', ascending=False)\n",
    "\n",
    "print(country_conversion)"
   ]
  },
  {
   "cell_type": "markdown",
   "id": "d8deea16",
   "metadata": {},
   "source": [
    "The US had 12% conversion rate whereas the UK and Canada had an 11% conversion rate"
   ]
  },
  {
   "cell_type": "markdown",
   "id": "64cdc945",
   "metadata": {},
   "source": [
    "Geographic trends in A/B testing results:"
   ]
  },
  {
   "cell_type": "code",
   "execution_count": 44,
   "id": "106e008e",
   "metadata": {},
   "outputs": [
    {
     "name": "stdout",
     "output_type": "stream",
     "text": [
      "                   total_users  converted_users  conversion_rate\n",
      "country group                                                   \n",
      "CA      control           2895              340         0.117444\n",
      "        treatment         2902              313         0.107857\n",
      "UK      control          14649             1757         0.119940\n",
      "        treatment        14612             1729         0.118327\n",
      "US      control          40781             5009         0.122827\n",
      "        treatment        41110             4893         0.119022\n"
     ]
    }
   ],
   "source": [
    "# Compare conversion rate by country for control vs treatment group\n",
    "country_ab_test = df_merged.groupby(['country', 'group']).agg(\n",
    "    total_users=('user_id', 'nunique'),\n",
    "    converted_users=('converted', 'sum')\n",
    ")\n",
    "\n",
    "# Compute conversion rate\n",
    "country_ab_test['conversion_rate'] = country_ab_test['converted_users'] / country_ab_test['total_users']\n",
    "\n",
    "print(country_ab_test)"
   ]
  },
  {
   "cell_type": "markdown",
   "id": "ee221cf1",
   "metadata": {},
   "source": [
    "Users from the US have a slightly higher conversion rate, irrespective of which group they belong to"
   ]
  },
  {
   "cell_type": "markdown",
   "id": "6bd848cd",
   "metadata": {},
   "source": [
    "plotting conversion rates by country:"
   ]
  },
  {
   "cell_type": "code",
   "execution_count": 45,
   "id": "aaebbd09",
   "metadata": {},
   "outputs": [
    {
     "data": {
      "image/png": "[encoded data removed]",
      "text/plain": [
       "<Figure size 1200x600 with 1 Axes>"
      ]
     },
     "metadata": {},
     "output_type": "display_data"
    }
   ],
   "source": [
    "plt.figure(figsize=(12, 6))\n",
    "sns.barplot(x=country_conversion.index, y=country_conversion['conversion_rate'])\n",
    "plt.xticks(rotation=90)\n",
    "plt.title(\"Conversion Rate by Country\")\n",
    "plt.xlabel(\"Country\")\n",
    "plt.ylabel(\"Conversion Rate\")\n",
    "plt.show()"
   ]
  },
  {
   "cell_type": "markdown",
   "id": "e7b5d90d",
   "metadata": {},
   "source": [
    "Although the conversion rate is between 10-12% (depending on control/treatment groups), Canadian users are the least likely to convert among the 3 countries, with American users being the first."
   ]
  },
  {
   "cell_type": "code",
   "execution_count": null,
   "id": "154039c8",
   "metadata": {},
   "outputs": [],
   "source": []
  }
 ],
 "metadata": {
  "kernelspec": {
   "display_name": "Python 3 (ipykernel)",
   "language": "python",
   "name": "python3"
  },
  "language_info": {
   "codemirror_mode": {
    "name": "ipython",
    "version": 3
   },
   "file_extension": ".py",
   "mimetype": "text/x-python",
   "name": "python",
   "nbconvert_exporter": "python",
   "pygments_lexer": "ipython3",
   "version": "3.12.3"
  }
 },
 "nbformat": 4,
 "nbformat_minor": 5
}
